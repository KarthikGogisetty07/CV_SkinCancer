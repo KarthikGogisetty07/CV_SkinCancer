{
  "nbformat": 4,
  "nbformat_minor": 0,
  "metadata": {
    "colab": {
      "provenance": []
    },
    "kernelspec": {
      "name": "python3",
      "display_name": "Python 3"
    },
    "language_info": {
      "name": "python"
    }
  },
  "cells": [
    {
      "cell_type": "code",
      "execution_count": null,
      "metadata": {
        "id": "kr0uSeL2r9jK"
      },
      "outputs": [],
      "source": [
        "import os\n",
        "import numpy as np\n",
        "import cv2\n",
        "import matplotlib.pyplot as plt\n",
        "import pandas as pd\n",
        "import warnings\n",
        "warnings.filterwarnings(\"ignore\")"
      ]
    },
    {
      "cell_type": "code",
      "source": [
        "Path = '/content/sample_data'\n",
        "images =['ISIC_0015719.jpg', 'ISIC_0052212.jpg', 'ISIC_0068279.jpg', 'ISIC_0074268.jpg', 'ISIC_0074311.jpg', 'ISIC_0074542.jpg', 'ISIC_0075663.jpg', 'ISIC_0075914.jpg']\n"
      ],
      "metadata": {
        "id": "UAaoFC_3r-7r"
      },
      "execution_count": null,
      "outputs": []
    },
    {
      "cell_type": "code",
      "source": [
        "train_df = pd.read_csv(Path+\"/train.csv\")"
      ],
      "metadata": {
        "id": "bcaKPGGesJ4b"
      },
      "execution_count": null,
      "outputs": []
    },
    {
      "cell_type": "code",
      "source": [
        "for i in train_df.loc[train_df.target==1,\"image_name\"][:20]:\n",
        "    images.append(i)"
      ],
      "metadata": {
        "id": "qbXz_wVLsKvj"
      },
      "execution_count": null,
      "outputs": []
    },
    {
      "cell_type": "code",
      "source": [
        "target=train_df[train_df.image_name.isin(images)].target\n",
        "target.index = list(range(0,len(target)))"
      ],
      "metadata": {
        "id": "_-CcSEL9sNct"
      },
      "execution_count": null,
      "outputs": []
    },
    {
      "cell_type": "code",
      "source": [
        "target.value_counts()\n"
      ],
      "metadata": {
        "colab": {
          "base_uri": "https://localhost:8080/"
        },
        "id": "tkryHOXSBWkH",
        "outputId": "d5a41eac-f400-4e31-d332-a9409070130a"
      },
      "execution_count": null,
      "outputs": [
        {
          "output_type": "execute_result",
          "data": {
            "text/plain": [
              "1    20\n",
              "Name: target, dtype: int64"
            ]
          },
          "metadata": {},
          "execution_count": 28
        }
      ]
    },
    {
      "cell_type": "code",
      "source": [
        "def hair_remove(image):\n",
        "    \n",
        "    # convert image to grayScale\n",
        "    grayScale = cv2.cvtColor(image_resize, cv2.COLOR_RGB2GRAY)\n",
        "    \n",
        "    # kernel for morphologyEx\n",
        "    kernel = cv2.getStructuringElement(1,(17,17))\n",
        "    \n",
        "    # apply MORPH_BLACKHAT to grayScale image\n",
        "    blackhat = cv2.morphologyEx(grayScale, cv2.MORPH_BLACKHAT, kernel)\n",
        "    \n",
        "    # apply thresholding to blackhat\n",
        "    _,threshold = cv2.threshold(blackhat,10,255,cv2.THRESH_BINARY)\n",
        "    \n",
        "    # inpaint with original image and threshold image\n",
        "    final_image = cv2.inpaint(image_resize,threshold,1,cv2.INPAINT_TELEA)\n",
        "    \n",
        "    final_image = cv2.medianBlur(final_image,5)\n",
        "    \n",
        "    return final_image"
      ],
      "metadata": {
        "id": "vdV_psWTBhAj"
      },
      "execution_count": null,
      "outputs": []
    },
    {
      "cell_type": "code",
      "source": [
        "for i,image_name in enumerate(images):\n",
        "    \n",
        "    # Set Up matplotlib figure size\n",
        "    plt.figure(figsize=(20,2.5))\n",
        "    \n",
        "    # read and reduce the image size to 512 by 512 pixels \n",
        "    image = cv2.imread(Path + '/jpeg/' + image_name+\".jpg\")\n",
        "    try:\n",
        "      image_resize = cv2.resize(image,(512,512))\n",
        "    except:\n",
        "      break\n",
        "    height, width, layers = image.shape\n",
        "    size = (width,height)\n",
        "\n",
        "    # original image plot \n",
        "    plt.subplot(1, 6, 1)\n",
        "    plt.imshow(cv2.cvtColor(image_resize, cv2.COLOR_BGR2RGB))\n",
        "    plt.axis('off')\n",
        "    plt.title('Original : '+\" T :\" + str(target[i]))\n",
        " \n",
        "\n",
        "    # Create an Edge detection Laplacian filter\n",
        "    lap = cv2.Laplacian(image_resize,cv2.CV_64F)\n",
        "    lap = np.uint8(np.absolute(lap))\n",
        "    \n",
        "    plt.subplot(1, 6, 2)\n",
        "    plt.imshow(cv2.cvtColor(lap, cv2.COLOR_BGR2RGB))\n",
        "    plt.axis('off')\n",
        "    plt.title('Edge detection '+ \" T :\" + str(target[i]))\n",
        "    \n",
        "    # Hair removal and adaptive threshold \n",
        "    final_image = hair_remove(image_resize)\n",
        "    gray = cv2.cvtColor(final_image,cv2.COLOR_BGR2GRAY)\n",
        "    thresh = cv2.adaptiveThreshold(gray,256,cv2.ADAPTIVE_THRESH_MEAN_C,cv2.THRESH_BINARY_INV,73,7)\n",
        "    \n",
        "    # ploting the threshold \n",
        "    plt.subplot(1, 6, 3)\n",
        "    plt.imshow(cv2.cvtColor(thresh, cv2.COLOR_BGR2RGB))\n",
        "    plt.axis('off')\n",
        "    plt.title('processed image : '+\" T :\" + str(target[i]))\n",
        "\n",
        "    \n",
        "    # finding the contours on the image \n",
        "    c,h=cv2.findContours(thresh,cv2.RETR_TREE,cv2.CHAIN_APPROX_NONE) \n",
        "    cv2.drawContours(image_resize,c,-1,(0,255,0),3)\n",
        "    \n",
        "\n",
        "    # ploting the contours \n",
        "    plt.subplot(1, 6, 4)\n",
        "    plt.imshow(cv2.cvtColor(image_resize, cv2.COLOR_BGR2RGB))\n",
        "    plt.axis('off')\n",
        "    plt.title('Skin Marks detections v1:' +\" T  :\" + str(target[i]))\n",
        "    \n",
        "    \n",
        "    # creating dilate with 2 by 2 kernel \n",
        "    kernel = np.ones((2,2),np.uint8)\n",
        "    dial1 = cv2.dilate(thresh,kernel,iterations=3)\n",
        "    \n",
        "    # create a morphologyEx it's like the dilate but sharper\n",
        "    kernel = np.ones((2,2),np.uint8)\n",
        "    dial = cv2.morphologyEx(thresh,cv2.MORPH_ELLIPSE,kernel)\n",
        "    \n",
        "    # create the final image \n",
        "    img1=cv2.bitwise_and(final_image, final_image, mask=dial1)\n",
        "    img2=cv2.bitwise_and(final_image, final_image, mask=dial)\n",
        "    \n",
        "    #ploting the Lesions extraction \n",
        "    plt.subplot(1, 6, 5)\n",
        "    plt.imshow(cv2.cvtColor(img2, cv2.COLOR_BGR2RGB))\n",
        "    plt.axis('off')\n",
        "    plt.title('Lesions extraction v1'+ \" T :\" + str(target[i]))\n",
        "    \n",
        "    plt.subplot(1, 6,6)\n",
        "    plt.imshow(cv2.cvtColor(img1, cv2.COLOR_BGR2RGB))\n",
        "    plt.axis('off')\n",
        "    plt.title('Lesions extraction v2'+ \" T :\" + str(target[i]))\n",
        "    \n",
        "    plt.plot()"
      ],
      "metadata": {
        "colab": {
          "base_uri": "https://localhost:8080/",
          "height": 34
        },
        "id": "ADLjeL3zBrr8",
        "outputId": "3686f571-e7b6-4514-f87b-c673bd272fae"
      },
      "execution_count": null,
      "outputs": [
        {
          "output_type": "display_data",
          "data": {
            "text/plain": [
              "<Figure size 1440x180 with 0 Axes>"
            ]
          },
          "metadata": {}
        }
      ]
    },
    {
      "cell_type": "code",
      "source": [
        "for i,image_name in enumerate(images):\n",
        "    \n",
        "    # Set Up matplotlib figure size\n",
        "    plt.figure(figsize=(20,2.5))\n",
        "    \n",
        "    # read and reduce the image size to 512 by 512 pixels \n",
        "    image = cv2.imread(Path + '/jpeg/' + image_name+\".jpg\")\n",
        "    try:\n",
        "      image_resize = cv2.resize(image,(512,512))\n",
        "    except:\n",
        "      break\n",
        "    height, width, layers = image.shape\n",
        "    size = (width,height)\n",
        "\n",
        "    final_image = hair_remove(image_resize)\n",
        "    # original image plot \n",
        "    plt.subplot(1, 4, 1)\n",
        "    plt.imshow(cv2.cvtColor(final_image, cv2.COLOR_BGR2RGB))\n",
        "    plt.axis('off')\n",
        "    plt.title('Original : '+\" T :\" + str(target[i]))\n",
        "    \n",
        "    # colors in the image histogram \n",
        "    hist= cv2.calcHist([final_image],[0],None,[256],[0,256])\n",
        "    hist2=cv2.calcHist([final_image],[1],None,[256],[0,256])\n",
        "    hist3=cv2.calcHist([final_image],[2],None,[256],[0,256])\n",
        "\n",
        "    plt.subplot(1, 4, 2)\n",
        "    plt.plot(hist)   \n",
        "    plt.axis('off')\n",
        "    plt.title('Hist Blue : '+\" T :\" + str(target[i]))\n",
        "    \n",
        "    plt.subplot(1, 4, 3)\n",
        "    plt.plot(hist2,color=\"green\")   \n",
        "    plt.axis('off')\n",
        "    plt.title('Hist Green : '+\" T :\" + str(target[i]))\n",
        "\n",
        "    plt.subplot(1, 4, 4)\n",
        "    plt.plot(hist3,color=\"red\")   \n",
        "    plt.axis('off')\n",
        "    plt.title('Hist Red : '+\" T :\" + str(target[i]))\n",
        "\n",
        "    plt.plot()"
      ],
      "metadata": {
        "colab": {
          "base_uri": "https://localhost:8080/",
          "height": 34
        },
        "id": "ra5x-SLIJWQO",
        "outputId": "9f8581d8-75b9-45d2-fed5-f2fba91d3e91"
      },
      "execution_count": null,
      "outputs": [
        {
          "output_type": "display_data",
          "data": {
            "text/plain": [
              "<Figure size 1440x180 with 0 Axes>"
            ]
          },
          "metadata": {}
        }
      ]
    }
  ]
}